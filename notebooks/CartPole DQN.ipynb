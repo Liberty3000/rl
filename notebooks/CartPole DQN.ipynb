{
 "cells": [
  {
   "cell_type": "code",
   "execution_count": null,
   "metadata": {},
   "outputs": [],
   "source": [
    "import collections, gym, math, random, tqdm\n",
    "import matplotlib.pyplot as mp, numpy as np, pandas as pd, torch as th\n",
    "from torch.autograd import Variable"
   ]
  },
  {
   "cell_type": "markdown",
   "metadata": {},
   "source": [
    "![](https://upload.wikimedia.org/wikipedia/commons/thumb/0/00/Cart-pendulum.svg/300px-Cart-pendulum.svg.png)"
   ]
  },
  {
   "cell_type": "markdown",
   "metadata": {},
   "source": [
    "### Model"
   ]
  },
  {
   "cell_type": "code",
   "execution_count": null,
   "metadata": {},
   "outputs": [],
   "source": [
    "class ShallowRectifier(th.nn.Sequential):\n",
    "    def __init__(self, states, actions, units=128):\n",
    "        super().__init__()\n",
    "        self.model = th.nn.Sequential(\n",
    "        th.nn.Linear(states, units),\n",
    "        th.nn.ReLU(),\n",
    "        th.nn.Linear( units, units),\n",
    "        th.nn.ReLU(),\n",
    "        th.nn.Linear(units,actions))"
   ]
  },
  {
   "cell_type": "markdown",
   "metadata": {},
   "source": [
    "### Memory"
   ]
  },
  {
   "cell_type": "code",
   "execution_count": null,
   "metadata": {},
   "outputs": [],
   "source": [
    "class ExperienceReplay(object):\n",
    "    def __init__(self, capacity=2**20):\n",
    "        self.buffer = collections.deque(maxlen=capacity)\n",
    "\n",
    "    def push(self, state, action, reward, sprime, terminal):\n",
    "        state = np.expand_dims(state, 0)\n",
    "        sprime= np.expand_dims(sprime,0)\n",
    "\n",
    "        self.buffer.append((state, action, reward, sprime, terminal))\n",
    "\n",
    "    def sample(self, bsize=1):\n",
    "        s,a,r,s_,t = zip(*random.sample(self.buffer, bsize))\n",
    "        return np.concatenate(s), a, r, np.concatenate(s_), np.array(t).astype(np.float32)\n",
    "\n",
    "    def minibatch(self, bsize=1):\n",
    "        s,a,r,s_,t = self.sample(bsize)\n",
    "        a = Variable(th.from_numpy(np.array(a)).long())\n",
    "        s = Variable(th.from_numpy(s).float())\n",
    "        s_= Variable(th.from_numpy(s_).float())\n",
    "        r = Variable(th.from_numpy(np.array(r)).float())\n",
    "        t = Variable(th.from_numpy(t).float())\n",
    "        return s,a,r,s_,t\n",
    "        \n",
    "    def __len__(self):\n",
    "        return len(self.buffer)"
   ]
  },
  {
   "cell_type": "markdown",
   "metadata": {},
   "source": [
    "### Policy"
   ]
  },
  {
   "cell_type": "code",
   "execution_count": null,
   "metadata": {},
   "outputs": [],
   "source": [
    "class Policy(th.nn.Module):\n",
    "    def __init__(self):\n",
    "        pass\n",
    "\n",
    "class EpsilonGreed(Policy):\n",
    "    def __init__(self, epsilon_init=1., epsilon_min=0.01, epsilon_decay=384):\n",
    "        self.epsilon_min = epsilon_min\n",
    "        self.epsilon_init= epsilon_init\n",
    "        self.epsilon_decay = epsilon_decay\n",
    "        self.epsilon = epsilon_init\n",
    "\n",
    "    def decay_epsilon(self, itr):\n",
    "        decay_rate = np.exp(-1.* itr / self.epsilon_decay)\n",
    "        diff = (self.epsilon_init - self.epsilon_min) * decay_rate\n",
    "        self.epsilon = self.epsilon_min + diff\n",
    "        \n",
    "    def __call__(self, logits):\n",
    "        if len(logits.size()) <2: logits.unsqueeze_(0)\n",
    "        if random.random() > self.epsilon:\n",
    "            action = logits.max(1)[1].data[0].item()\n",
    "        else:\n",
    "            action = np.random.randint(0,logits.size(-1))\n",
    "        return action"
   ]
  },
  {
   "cell_type": "markdown",
   "metadata": {},
   "source": [
    "### Deep Q-Network"
   ]
  },
  {
   "cell_type": "code",
   "execution_count": null,
   "metadata": {},
   "outputs": [],
   "source": [
    "class Agent:\n",
    "    def __init__(self):\n",
    "        pass\n",
    "\n",
    "class DQN(Agent):\n",
    "    def __init__(self, model, optim, policy, memory):\n",
    "        super().__init__()\n",
    "        self.memory= memory\n",
    "        self.policy= policy\n",
    "        self.model = model\n",
    "        self.optim = optim\n",
    "\n",
    "    def update(self, bsize=1, loss=th.nn.MSELoss(), td=0):\n",
    "        s,a,r,s_,t = self.memory.minibatch(bsize)\n",
    "        \n",
    "        Qvalue = self.model(s).gather(1,a.unsqueeze(1)).squeeze(1)\n",
    "        Qprime = self.model(s_).max(1)[0]\n",
    "\n",
    "        Qexpect= th.autograd.Variable(reward + gamma * Qprime * (1-t))\n",
    "        \n",
    "        self.optim.zero_grad()\n",
    "        L = loss(Qvalue,Qexpect)\n",
    "        L.backward()\n",
    "        self.optim.step()\n",
    "        \n",
    "        return L.item()\n",
    "        \n",
    "    def interact(self, state, epsilon=0.1):\n",
    "        Q = self.model(th.from_numpy(state.astype(np.float32)))\n",
    "        action = self.policy(Q)\n",
    "        return action"
   ]
  },
  {
   "cell_type": "markdown",
   "metadata": {},
   "source": [
    "### CartPole"
   ]
  },
  {
   "cell_type": "code",
   "execution_count": null,
   "metadata": {},
   "outputs": [],
   "source": [
    "sim = gym.make('CartPole-v0')\n",
    "states,actions = sim.observation_space.shape[0], sim.action_space.n\n",
    "\n",
    "model = ShallowRectifier(states,actions)\n",
    "optim = th.optim.Adam(model.parameters(),amsgrad=True)\n",
    "\n",
    "agent = DQN(model=model,\n",
    "            optim=optim,\n",
    "            memory=ExperienceReplay(),\n",
    "            policy=EpsilonGreed())"
   ]
  },
  {
   "cell_type": "markdown",
   "metadata": {},
   "source": [
    "### Config"
   ]
  },
  {
   "cell_type": "code",
   "execution_count": 7,
   "metadata": {},
   "outputs": [],
   "source": [
    "transitions = 2**13\n",
    "bsize = 1\n",
    "gamma = 0.99\n",
    "interval = 128"
   ]
  },
  {
   "cell_type": "markdown",
   "metadata": {},
   "source": [
    "### Simulate"
   ]
  },
  {
   "cell_type": "code",
   "execution_count": 8,
   "metadata": {},
   "outputs": [
    {
     "data": {
      "application/vnd.jupyter.widget-view+json": {
       "model_id": "21ca78d4b8704784b2e824516c4bca95",
       "version_major": 2,
       "version_minor": 0
      },
      "text/plain": [
       "HBox(children=(IntProgress(value=0, max=8192), HTML(value='')))"
      ]
     },
     "metadata": {},
     "output_type": "display_data"
    },
    {
     "name": "stdout",
     "output_type": "stream",
     "text": [
      "\n"
     ]
    }
   ],
   "source": [
    "losses, cummulative, rewards = [],0,[]\n",
    "state = sim.reset()\n",
    "bar = tqdm.tqdm_notebook(range(1, transitions + 1))\n",
    "for T in bar:\n",
    "    action = agent.interact(state)\n",
    "    \n",
    "    sprime, reward, terminal,_ = sim.step(action)\n",
    "    \n",
    "    agent.memory.push(state,action,reward,sprime,terminal)\n",
    "    \n",
    "    state = sprime\n",
    "    cummulative += reward\n",
    "    agent.policy.decay_epsilon(T)\n",
    "    \n",
    "    if terminal:\n",
    "        state = sim.reset()\n",
    "        rewards.append(cummulative)\n",
    "        episode_reward = 0\n",
    "        \n",
    "    if len(agent.memory) > bsize:\n",
    "        losses.append(agent.update(bsize))"
   ]
  },
  {
   "cell_type": "code",
   "execution_count": 9,
   "metadata": {},
   "outputs": [
    {
     "data": {
      "text/plain": [
       "[<matplotlib.lines.Line2D at 0x12f4daf10>]"
      ]
     },
     "execution_count": 9,
     "metadata": {},
     "output_type": "execute_result"
    },
    {
     "data": {
      "image/png": "[encoded data removed]",
      "text/plain": [
       "<Figure size 1224x1080 with 2 Axes>"
      ]
     },
     "metadata": {
      "needs_background": "light"
     },
     "output_type": "display_data"
    }
   ],
   "source": [
    "fig,(ax1,ax2) = mp.subplots(2,1,figsize=(17,15))\n",
    "ax1.plot(rewards,label='Reward', lw=3, color='darkcyan')\n",
    "ax2.plot(losses, label='Losses', lw=3, color='rebeccapurple')"
   ]
  }
 ],
 "metadata": {
  "kernelspec": {
   "display_name": "Python 3",
   "language": "python",
   "name": "python3"
  },
  "language_info": {
   "codemirror_mode": {
    "name": "ipython",
    "version": 3
   },
   "file_extension": ".py",
   "mimetype": "text/x-python",
   "name": "python",
   "nbconvert_exporter": "python",
   "pygments_lexer": "ipython3",
   "version": "3.7.4"
  }
 },
 "nbformat": 4,
 "nbformat_minor": 2
}
