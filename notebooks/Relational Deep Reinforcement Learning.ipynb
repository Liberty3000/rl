{
 "cells": [
  {
   "cell_type": "code",
   "execution_count": 1,
   "metadata": {},
   "outputs": [],
   "source": [
    "import random, tqdm, gym\n",
    "from gym.utils import seeding\n",
    "from gym.spaces.discrete import Discrete\n",
    "from gym.spaces import Box\n",
    "\n",
    "import numpy as np\n",
    "import torch as th\n",
    "import matplotlib.pyplot as mp"
   ]
  },
  {
   "cell_type": "markdown",
   "metadata": {},
   "source": [
    "# Relational Deep Reinforcement Learning\n",
    "The core idea behind RRL is to combine reinforcement learning with relational learning or Inductive\n",
    "Logic Programming, by **representing states, actions and policies using a first order (or relational)\n",
    "language**."
   ]
  },
  {
   "cell_type": "markdown",
   "metadata": {},
   "source": [
    "This notebook covers an RL task called Box-World from [[1]](https://arxiv.org/pdf/1806.01830.pdf), that explicitly targets relational reasoning, and demonstrates that agents with a capacity to produce relational representations using a **non-local computation based on attention** exhibit interesting generalization behaviors compared to those that do not.\n",
    "\n",
    "We can apply the agent to a difficult problem – the StarCraft II minigames – and achieve state-of-the-art performance on six minigames."
   ]
  },
  {
   "attachments": {},
   "cell_type": "markdown",
   "metadata": {},
   "source": [
    "<img src=\"../graphics/Box-World.png\" />"
   ]
  },
  {
   "cell_type": "markdown",
   "metadata": {},
   "source": [
    "                Box-World and StarCraft II tasks demand reasoning about entities and their relations."
   ]
  },
  {
   "cell_type": "markdown",
   "metadata": {},
   "source": [
    "- Moving from a propositional to a relational representation facilitates **generalization over goals, states, and actions**, exploiting knowledge learnt during an earlier learning phase.\n",
    "- A relational language also facilitates the use of background knowledge. Background knowledge can be provided by logical facts and rules relevant to the learning problem.\n",
    "\n",
    "In Box-World, one could use the predicate **above(S, A, B)** to indicate that **block A *is above* block B in state *S*** when specifying background knowledge.\n",
    "\n",
    "Such predicates can then be\n",
    "used during learning for blocks C and D, for example.\n",
    "\n",
    "\n",
    "**The representational language, background,\n",
    "and assumptions form the inductive bias**, which guides (and restricts) the search for good policies.\n",
    "The language (or declarative) bias determines the way concepts can be represented."
   ]
  },
  {
   "attachments": {},
   "cell_type": "markdown",
   "metadata": {},
   "source": [
    "<img src=\"../graphics/RDRL.png\" />"
   ]
  },
  {
   "cell_type": "markdown",
   "metadata": {},
   "source": [
    "## BoxWorld\n",
    "Box-World is a perceptually simple but combinatorially complex environment that requires abstract\n",
    "relational reasoning and planning. It consists of a **12×12 pixel room** with **keys and boxes randomly\n",
    "scattered**. The room also contains an agent, represented by a single dark gray pixel, which can move\n",
    "in four directions: up, down, left, right.\n",
    "\n",
    "Keys are represented by a single colored pixel. The agent can pick up a loose key (i.e., one not\n",
    "adjacent to any other colored pixel) by walking over it. Boxes are represented by two adjacent colored\n",
    "pixels – the pixel on the right represents the box’s lock and its color indicates which key can be used\n",
    "to open that lock; the pixel on the left indicates the content of the box which is inaccessible while\n",
    "the box is locked.\n",
    "\n",
    "To collect the content of a box the agent must first collect the key that opens the box (the one\n",
    "that matches the lock’s color) and walk over the lock, which makes the lock disappear. At this point\n",
    "the content of the box becomes accessible and can be picked up by the agent. Most boxes contain\n",
    "keys that, if made accessible, can be used to open other boxes. One of the boxes contains a gem,\n",
    "represented by a single white pixel. The goal of the agent is to collect the gem by unlocking the\n",
    "box that contains it and picking it up by walking over it. Keys that an agent has in possession are\n",
    "depicted in the input observation as a pixel in the top-left corner.\n",
    "\n",
    "In each level there is a unique sequence of boxes that need to be opened in order to reach the gem.\n",
    "Opening one wrong box (a distractor box) leads to a dead-end where the gem cannot be reached\n",
    "and the level becomes unsolvable.\n",
    "\n",
    "There are three user-controlled parameters that contribute to\n",
    "the difficulty of the level: \n",
    "- the number of boxes in the path to the goal (solution length);\n",
    "- the number of distractor branches;\n",
    "- the length of the distractor branches.\n",
    "\n",
    "In general, the task is computationally difficult for a few reasons:\n",
    "- A key can only be used once, so the agent must be able to reason about whether a particular box is along a distractor branch or along the solution path. \n",
    "\n",
    "- Keys and boxes appear in random locations in the room, emphasising a capacity to reason about keys and boxes based on their abstract relations, rather than based on their spatial positions."
   ]
  },
  {
   "cell_type": "code",
   "execution_count": 2,
   "metadata": {},
   "outputs": [],
   "source": [
    "agent_color = [128, 128, 128]\n",
    "\n",
    "action_space = {\n",
    "    0: (-1, 0),\n",
    "    1: (1,  0),\n",
    "    2: (0, -1),\n",
    "    3: (0,  1)\n",
    "}\n",
    "\n",
    "goal_color = [255, 255, 255]\n",
    "grid_color = [220, 220, 220]\n",
    "\n",
    "colors = {0: [  0,   0,   0],\n",
    "          1: [230, 190, 255],\n",
    "          2: [170, 255, 195],\n",
    "          3: [255, 250, 200],\n",
    "          4: [255, 216, 177],\n",
    "          5: [250, 190, 190],\n",
    "          6: [240,  50, 230],\n",
    "          7: [145,  30, 180],\n",
    "          8: [ 67,  99, 216],\n",
    "          9: [ 66, 212, 244],\n",
    "          10:[ 60, 180,  75],\n",
    "          11:[191, 239,  69],\n",
    "          12:[255, 255,  25],\n",
    "          13:[245, 130,  49],\n",
    "          14:[230,  25,  75],\n",
    "          15:[128,   0,   0],\n",
    "          16:[154,  99,  36],\n",
    "          17:[128, 128,   0],\n",
    "          18:[ 70, 153, 144],\n",
    "          19:[  0,   0, 117]}"
   ]
  },
  {
   "cell_type": "code",
   "execution_count": 3,
   "metadata": {},
   "outputs": [],
   "source": [
    "def sampling_pairs(pairs, n=12):\n",
    "    possibilities = set(range(1, n*(n-1)))\n",
    "    keys,locks = [],[]\n",
    "    for k in range(pairs):\n",
    "        key = random.sample(possibilities, 1)[0]\n",
    "        key_x, key_y = key//(n-1), key%(n-1)\n",
    "        \n",
    "        lock_x, lock_y = key_x, key_y + 1\n",
    "        \n",
    "        to_remove = [key_x * (n-1) + key_y] + \\\n",
    "                    [key_x * (n-1) + i + key_y for i in range(1, min(2, n - 2 - key_y) + 1)] + \\\n",
    "                    [key_x * (n-1) - i + key_y for i in range(1, min(2, key_y) + 1)]\n",
    "\n",
    "        possibilities -= set(to_remove)\n",
    "        \n",
    "        keys.append([key_x, key_y])\n",
    "        locks.append([lock_x, lock_y])\n",
    "        \n",
    "    agent_xy = random.sample(possibilities, 1)\n",
    "    possibilities -= set(agent_xy)\n",
    "    first_key = random.sample(possibilities, 1)\n",
    "\n",
    "    agent_xy = np.array([agent_xy[0]//(n-1), agent_xy[0]%(n-1)])\n",
    "    first_key = first_key[0]//(n-1), first_key[0]%(n-1)\n",
    "    return keys, locks, first_key, agent_xy\n",
    "\n",
    "def generate(n=12, goal_length=3, num_distractor=2, distractor_length=2, seed=None, verbose=False):\n",
    "    if seed is not None: random.seed(seed)\n",
    "\n",
    "    world_dic = {}\n",
    "    world = np.ones((n, n, 3)) * 220\n",
    "    goal_colors = random.sample(range(len(colors)), goal_length - 1)\n",
    "    \n",
    "    distractor_possible_colors = [color for color in range(len(colors)) if color not in goal_colors]\n",
    "    distractor_colors = [random.sample(distractor_possible_colors, distractor_length) for k in range(num_distractor)]\n",
    "    distractor_roots  = random.choices(range(goal_length - 1), k=num_distractor)\n",
    "    keys, locks, first_key, agent_xy = sampling_pairs(goal_length - 1 + distractor_length * num_distractor, n)\n",
    "\n",
    "    # create the goal path\n",
    "    for i in range(1, goal_length):\n",
    "        if i == goal_length - 1: color = goal_color  # the final key is white\n",
    "        else: color = colors[goal_colors[i]]\n",
    "        \n",
    "        banner = 'placed a key with color {} on position {}, corresponding lock at {} with color {}'\n",
    "        if verbose: print(banner.format(color, keys[i-1], locks[i-1], colors[goal_colors[i-1]]))\n",
    "        world[ keys[i-1][0],  keys[i-1][1]] = np.array(color)\n",
    "        world[locks[i-1][0], locks[i-1][1]] = np.array(colors[goal_colors[i-1]])\n",
    "\n",
    "    # keys[0] is an orphand key, so skip it\n",
    "    world[first_key[0], first_key[1]] = np.array(colors[goal_colors[0]])\n",
    "    banner = 'placed the first key with color {} on position {}'\n",
    "    if verbose: print(banner.format(goal_colors[0], first_key))\n",
    "\n",
    "    # place distractors\n",
    "    for i, (distractor_color, root) in enumerate(zip(distractor_colors, distractor_roots)):\n",
    "        key_distractor = keys[goal_length-1 + i*distractor_length: goal_length-1 + (i+1)*distractor_length]\n",
    "        color_lock = colors[goal_colors[root]]\n",
    "        color_key = colors[distractor_color[0]]\n",
    "        world[key_distractor[0][0], key_distractor[0][1] + 1] = np.array(color_lock)\n",
    "        world[key_distractor[0][0], key_distractor[0][1]] = np.array(color_key)\n",
    "        for k, key in enumerate(key_distractor[1:]):\n",
    "            color_lock = colors[distractor_color[k-1]]\n",
    "            color_key = colors[distractor_color[k]]\n",
    "            world[key[0], key[1]] = np.array(color_key)\n",
    "            world[key[0], key[1]+1] = np.array(color_lock)\n",
    "\n",
    "    # place the agent\n",
    "    world[agent_xy[0], agent_xy[1]] = np.array(agent_color)\n",
    "    return world, keys, locks, first_key, agent_xy\n",
    "\n",
    "def update_color(world, previous_agent_loc, new_agent_loc):\n",
    "        world[previous_agent_loc[0], previous_agent_loc[1]] = grid_color\n",
    "        world[new_agent_loc[0], new_agent_loc[1]] = agent_color\n",
    "\n",
    "def is_empty(room):\n",
    "    return np.array_equal(room, grid_color) or np.array_equal(room, agent_color)"
   ]
  },
  {
   "cell_type": "code",
   "execution_count": 4,
   "metadata": {},
   "outputs": [],
   "source": [
    "class BoxWorld(gym.Env):\n",
    "    def __init__(self, n, goal_length, num_distractor, distractor_length, max_steps=2**10):\n",
    "        self.goal_length = goal_length\n",
    "        self.num_distractor = num_distractor\n",
    "        self.distractor_length = distractor_length\n",
    "        self.n = n\n",
    "        self.pairs = goal_length - 1 + distractor_length * num_distractor\n",
    "\n",
    "        self.step_cost  = 1e-1\n",
    "        self.reward_gem = 10\n",
    "        self.reward_key = 0\n",
    "\n",
    "        self.viewer = None\n",
    "        self.max_steps = max_steps\n",
    "        self.action_space = Discrete(len(action_space))\n",
    "        self.observation_space = Box(low=0, high=255, shape=(n, n, 3), dtype=np.uint8)\n",
    "\n",
    "        self.owned_key = grid_color\n",
    "\n",
    "        self.np_random_seed = None\n",
    "        self.reset()\n",
    "\n",
    "    def seed(self, seed=None):\n",
    "        self.np_random_seed = seed\n",
    "        return [seed]\n",
    "\n",
    "    def save(self):\n",
    "        np.save('box-world_{}.npy'.format(str(uuid.uuid4())[:8]))\n",
    "\n",
    "    def step(self, action, verbose=False):\n",
    "        self.num_env_steps += 1\n",
    "\n",
    "        change = action_space[action]\n",
    "        new_position = self.agent_xy + change\n",
    "        current_position = self.agent_xy.copy()\n",
    "\n",
    "        reward = -self.step_cost\n",
    "        terminal = self.num_env_steps == self.max_steps\n",
    "\n",
    "        if np.any(new_position < 0) or np.any(new_position >= self.n):\n",
    "            possible_move = False\n",
    "        elif np.array_equal(new_position, [0, 0]):\n",
    "            possible_move = False\n",
    "        elif is_empty(self.world[new_position[0], new_position[1]]):\n",
    "            # no key, no lock\n",
    "            possible_move = True\n",
    "        elif new_position[1] == 0 or is_empty(self.world[new_position[0], new_position[1]-1]):\n",
    "            # it's a key\n",
    "            if is_empty(self.world[new_position[0], new_position[1]+1]):\n",
    "                # key is not locked\n",
    "                possible_move = True\n",
    "                self.owned_key = self.world[new_position[0], new_position[1]].copy()\n",
    "                self.world[0,0] = self.owned_key\n",
    "                if np.array_equal(self.world[new_position[0], new_position[1]], goal_color):\n",
    "                    # goal reached\n",
    "                    reward += self.reward_gem\n",
    "                    terminal = True\n",
    "                else:\n",
    "                    reward += self.reward_key\n",
    "            else:\n",
    "                possible_move = False\n",
    "        else:\n",
    "            # it's a lock\n",
    "            if np.array_equal(self.world[new_position[0], new_position[1]], self.owned_key):\n",
    "                # the lock matches the key\n",
    "                possible_move = True\n",
    "            else:\n",
    "                possible_move = False\n",
    "                banner = 'lock color is {}, but owned key is {}'\n",
    "                if verbose: print(banner.format(self.world[new_position[0], new_position[1]], self.owned_key))\n",
    "\n",
    "        if possible_move:\n",
    "            self.agent_xy = new_position\n",
    "            update_color(self.world, previous_agent_loc=current_position, new_agent_loc=new_position)\n",
    "\n",
    "        metadata = {}\n",
    "        return self.world, reward, terminal, metadata\n",
    "\n",
    "    def reset(self):\n",
    "        args = generate(n=self.n, goal_length=self.goal_length,\n",
    "                        num_distractor=self.num_distractor,\n",
    "                        distractor_length=self.distractor_length,\n",
    "                        seed=self.np_random_seed)\n",
    "                \n",
    "        self.world, self.keys, self.locks, self.first_key, self.agent_xy = args\n",
    "\n",
    "        self.num_env_steps = 0\n",
    "        return self.world\n",
    "\n",
    "    def render(self, mode='human'):\n",
    "        img = self.world.astype(np.uint8)\n",
    "        if mode == 'human':\n",
    "            mp.imshow(img, vmin=0, vmax=255, interpolation='none')\n",
    "            mp.show()\n",
    "        else: return img\n",
    "        \n",
    "    def extract_objects(self, feature_maps):\n",
    "        objects = [list(self.agent_xy)] + self.keys + self.locks\n",
    "        return th.stack([feature_maps[...,x,y] for x,y in objects], dim=1)"
   ]
  },
  {
   "cell_type": "code",
   "execution_count": 5,
   "metadata": {},
   "outputs": [],
   "source": [
    "# execute only if run as a script\n",
    "env = BoxWorld(n=12, goal_length=3, num_distractor=2, distractor_length=1)\n",
    "state = env.reset()"
   ]
  },
  {
   "cell_type": "code",
   "execution_count": 6,
   "metadata": {},
   "outputs": [
    {
     "name": "stdout",
     "output_type": "stream",
     "text": [
      "(12, 12, 3)\n"
     ]
    },
    {
     "data": {
      "image/png": "[encoded data removed]",
      "text/plain": [
       "<Figure size 1080x1080 with 1 Axes>"
      ]
     },
     "metadata": {
      "needs_background": "light"
     },
     "output_type": "display_data"
    }
   ],
   "source": [
    "print(state.shape)\n",
    "mp.figure(figsize=(15,15))\n",
    "env.render()"
   ]
  },
  {
   "cell_type": "markdown",
   "metadata": {},
   "source": [
    "## Agent Architecture"
   ]
  },
  {
   "cell_type": "markdown",
   "metadata": {},
   "source": [
    "- The input observation is first processed through two convolutional layers with 12 and 24 kernels, 2 × 2 kernel sizes and a stride of 1, followed by a rectified linear unit (ReLU) activation function.\n",
    "- The output is tagged with two extra channels indicating the spatial position (x and y) of each cell in the feature map using evenly spaced values between −1 and 1. \n",
    "- This is then passed to the relational module (described above) consisting of a variable number of stacked MHDPA blocks, using shared weights. \n",
    "- The output of the relational module is aggregated using feature-wise max-pooling across space (i.e., pooling a n × n × k tensor to a k-dimensional vector)\n",
    "- This is then finally passed to a small MLP to produce policy logits (normalized and used as multinomial distribution from which the action was sampled) and a baseline scalar V.\n",
    "\n",
    "The baseline control agent replaces the MHDPA blocks with a variable number of residual convolution blocks."
   ]
  },
  {
   "attachments": {},
   "cell_type": "markdown",
   "metadata": {},
   "source": [
    "<img src=\"../graphics/MHDPA.png\" />"
   ]
  },
  {
   "cell_type": "markdown",
   "metadata": {},
   "source": [
    "### Extracting Entities\n",
    "When dealing with unstructured inputs – e.g. RGB pixels – we need a mechanism to represent the\n",
    "relevant entities.\n",
    "\n",
    "We decide to make a minimal assumption that entities are things located in a particular point in space. We use a convolutional neural network (CNN) to parse pixel inputs into k feature maps of size n×n, where k is the number of output channels of the CNN. \n",
    "\n",
    "We then concatenate x and y coordinates to each k-dimensional pixel feature-vector to indicate the pixel’s position in the map. We treat the resulting n 2 pixel-feature vectors as the set of entities by compiling them into a \n",
    "n^2 × k matrix E. This provides an efficient and flexible way to learn representations of the relevant entities, while being agnostic to what may constitute an entity for the particular problem at hand."
   ]
  },
  {
   "cell_type": "markdown",
   "metadata": {},
   "source": [
    "### Multihead Dot-Product Attention\n",
    "We start by assuming that we already have a set of entities for which interactions must be computed. We consider **multi-head dot-product attention (MHDPA)**, or *self-attention* [[2]](https://arxiv.org/pdf/1706.03762.pdf), as the operation that computes interactions between these entities.\n",
    "\n",
    "For N entities, MHDPA projects each entity i’s state vector into *query, key, and value* vector representations, respectively, whose activities are subsequently normalized to have zero mean and unit variance using the method from [[3]](https://arxiv.org/pdf/1607.06450.pdf). \n",
    "\n",
    "\n",
    "Each query is compared to all entities’ keys via a dot-product, to compute unnormalized saliencies. These are normalized into weights and put through a softmax layer. For each entity, the cumulative interactions are computed by the weighted mixture of all entities’ value vectors. This can be compactly computed using matrix multiplications:"
   ]
  },
  {
   "cell_type": "code",
   "execution_count": 7,
   "metadata": {},
   "outputs": [
    {
     "data": {
      "text/plain": [
       "[[5, 4], [1, 2], [8, 9], [5, 0]]"
      ]
     },
     "execution_count": 7,
     "metadata": {},
     "output_type": "execute_result"
    }
   ],
   "source": [
    "keys = env.keys\n",
    "keys"
   ]
  },
  {
   "cell_type": "code",
   "execution_count": 8,
   "metadata": {},
   "outputs": [
    {
     "data": {
      "text/plain": [
       "[[5, 5], [1, 3], [8, 10], [5, 1]]"
      ]
     },
     "execution_count": 8,
     "metadata": {},
     "output_type": "execute_result"
    }
   ],
   "source": [
    "locks = env.locks\n",
    "locks"
   ]
  },
  {
   "cell_type": "code",
   "execution_count": 9,
   "metadata": {},
   "outputs": [
    {
     "data": {
      "text/plain": [
       "[[7, 1]]"
      ]
     },
     "execution_count": 9,
     "metadata": {},
     "output_type": "execute_result"
    }
   ],
   "source": [
    "agent = [list(env.agent_xy)]\n",
    "agent"
   ]
  },
  {
   "cell_type": "code",
   "execution_count": 10,
   "metadata": {},
   "outputs": [
    {
     "name": "stdout",
     "output_type": "stream",
     "text": [
      "9 objects: [[7, 1], [5, 4], [1, 2], [8, 9], [5, 0], [5, 5], [1, 3], [8, 10], [5, 1]]\n"
     ]
    }
   ],
   "source": [
    "objects = agent + keys + locks\n",
    "print(len(objects),'objects:',objects)"
   ]
  },
  {
   "cell_type": "code",
   "execution_count": 11,
   "metadata": {},
   "outputs": [],
   "source": [
    "def extract_objects(xys, feature_maps):\n",
    "    return th.stack([feature_maps[...,x,y] for x,y in xys], dim=1)"
   ]
  },
  {
   "cell_type": "code",
   "execution_count": 12,
   "metadata": {},
   "outputs": [
    {
     "data": {
      "text/plain": [
       "torch.Size([1, 9, 32])"
      ]
     },
     "execution_count": 12,
     "metadata": {},
     "output_type": "execute_result"
    }
   ],
   "source": [
    "vex = extract_objects(objects, th.randn(1,32,12,12))\n",
    "vex.shape"
   ]
  },
  {
   "cell_type": "markdown",
   "metadata": {},
   "source": [
    "### Relational Module\n",
    "The output of the relational module is aggregated using feature-wise max-pooling across space (i.e., pooling a n × n × k tensor to a k-dimensional vector), and finally passed to a small MLP to produce policy logits (normalized and\n",
    "used as multinomial distribution from which the action was sampled) and a baseline scalar V .\n",
    "Our baseline control agent replaces the MHDPA blocks with a variable number of resid"
   ]
  },
  {
   "cell_type": "code",
   "execution_count": 13,
   "metadata": {},
   "outputs": [],
   "source": [
    "from torch.nn.modules.transformer import MultiheadAttention\n",
    "\n",
    "class RelationalModule(th.nn.Module):\n",
    "    def __init__(self, ch=2048, nhead=8, dropout=0.1):\n",
    "        super().__init__()\n",
    "        self.self_atntn = MultiheadAttention(24, nhead)\n",
    "        self.layer_norm = th.nn.LayerNorm(ch)\n",
    "        self.dropout = th.nn.Dropout(dropout)\n",
    "\n",
    "    def forward(self, objects, feature_maps=None):\n",
    "        if not isinstance(objects, list): vex = objects\n",
    "        else: vex = extract_objects(objects, feature_maps)\n",
    "                \n",
    "        _= self.self_atntn(vex,vex,vex)[0]\n",
    "        _= vex + self.dropout(_)\n",
    "        _= self.layer_norm(_)\n",
    "        return _"
   ]
  },
  {
   "cell_type": "code",
   "execution_count": 14,
   "metadata": {},
   "outputs": [],
   "source": [
    "class RRLModule(th.nn.Module):\n",
    "    def __init__(self, h1=[12,24], h2=256, actions=4):\n",
    "        super().__init__()\n",
    "        \n",
    "        self.conv1 = th.nn.Sequential(\n",
    "        th.nn.Conv2d(3, h1[0], kernel_size=2, stride=1, padding=1), th.nn.ReLU(),\n",
    "        th.nn.Conv2d(h1[0],h1[1], kernel_size=2, stride=1, padding=1), th.nn.ReLU())\n",
    "        nfeats = self.conv1.forward(th.Tensor(1,3,12,12)).size(1)\n",
    "\n",
    "        self.relm = RelationalModule(nfeats)\n",
    "        \n",
    "        self.conv2 = th.nn.Sequential(\n",
    "        th.nn.Linear(nfeats, h2), th.nn.ReLU(),\n",
    "        th.nn.Linear(    h2, h2), th.nn.ReLU(),\n",
    "        th.nn.Linear(    h2, h2), th.nn.ReLU(),\n",
    "        th.nn.Linear(    h2, h2), th.nn.ReLU())\n",
    "        \n",
    "        self.V, self.Pi = th.nn.Linear(h2,1), th.nn.Linear(h2, actions)\n",
    "        \n",
    "    def feature_maps(self, x):\n",
    "        _= self.conv1(x)\n",
    "        return _\n",
    "    \n",
    "    def __call__(self,x,objects):\n",
    "        _= self.feature_maps(x)\n",
    "        _= self.relm(objects,_)\n",
    "        _= th.max(_,dim=1)[0]\n",
    "        _= self.conv2(_)\n",
    "        \n",
    "        v,pi = self.V(_),self.Pi(_)\n",
    "        return v,pi"
   ]
  },
  {
   "cell_type": "code",
   "execution_count": 15,
   "metadata": {},
   "outputs": [],
   "source": [
    "rrl_module = RRLModule()"
   ]
  },
  {
   "cell_type": "code",
   "execution_count": 16,
   "metadata": {},
   "outputs": [],
   "source": [
    "v,pi = rrl_module(th.randn(1,3,12,12),objects)"
   ]
  },
  {
   "cell_type": "code",
   "execution_count": 17,
   "metadata": {},
   "outputs": [
    {
     "data": {
      "text/plain": [
       "torch.Size([1, 1])"
      ]
     },
     "execution_count": 17,
     "metadata": {},
     "output_type": "execute_result"
    }
   ],
   "source": [
    "v.size()"
   ]
  },
  {
   "cell_type": "code",
   "execution_count": 18,
   "metadata": {},
   "outputs": [
    {
     "data": {
      "text/plain": [
       "torch.Size([1, 4])"
      ]
     },
     "execution_count": 18,
     "metadata": {},
     "output_type": "execute_result"
    }
   ],
   "source": [
    "pi.size()"
   ]
  },
  {
   "cell_type": "code",
   "execution_count": 19,
   "metadata": {},
   "outputs": [
    {
     "data": {
      "text/plain": [
       "(12, 12, 3)"
      ]
     },
     "execution_count": 19,
     "metadata": {},
     "output_type": "execute_result"
    }
   ],
   "source": [
    "state.shape"
   ]
  },
  {
   "cell_type": "code",
   "execution_count": 20,
   "metadata": {},
   "outputs": [
    {
     "data": {
      "text/plain": [
       "torch.Size([1, 3, 12, 12])"
      ]
     },
     "execution_count": 20,
     "metadata": {},
     "output_type": "execute_result"
    }
   ],
   "source": [
    "test_inp = th.from_numpy(state.swapaxes(0,1).swapaxes(0,-1)).float().unsqueeze(0)\n",
    "test_inp.size()"
   ]
  },
  {
   "cell_type": "code",
   "execution_count": 21,
   "metadata": {},
   "outputs": [
    {
     "data": {
      "text/plain": [
       "(tensor([[-0.0332]], grad_fn=<AddmmBackward>),\n",
       " tensor([[-0.0740, -0.0388, -0.0677, -0.0252]], grad_fn=<AddmmBackward>))"
      ]
     },
     "execution_count": 21,
     "metadata": {},
     "output_type": "execute_result"
    }
   ],
   "source": [
    "test_out = rrl_module(test_inp, objects)\n",
    "test_out"
   ]
  },
  {
   "cell_type": "code",
   "execution_count": 22,
   "metadata": {},
   "outputs": [],
   "source": [
    "stochastic_policy = lambda:np.random.randint(0,len(action_space))\n",
    "states, actions, rewards, sprimes, terminals = [],[],[],[],[]"
   ]
  },
  {
   "cell_type": "code",
   "execution_count": 23,
   "metadata": {},
   "outputs": [
    {
     "data": {
      "application/vnd.jupyter.widget-view+json": {
       "model_id": "b2466ace5b4b4d598497ecb1a5b435ac",
       "version_major": 2,
       "version_minor": 0
      },
      "text/plain": [
       "HBox(children=(IntProgress(value=0, max=32), HTML(value='')))"
      ]
     },
     "metadata": {},
     "output_type": "display_data"
    },
    {
     "name": "stdout",
     "output_type": "stream",
     "text": [
      "\n"
     ]
    }
   ],
   "source": [
    "episodes = 2**5\n",
    "for _ in tqdm.tqdm_notebook(range(episodes)):\n",
    "    state = env.reset()\n",
    "    for _ in range(env.max_steps):\n",
    "        states.append(state)\n",
    "        action = stochastic_policy()\n",
    "        actions.append(action)\n",
    "        sprime,reward,terminal,_ = env.step(action)\n",
    "        sprimes.append(sprime)\n",
    "        rewards.append(reward)\n",
    "        terminals.append(int(terminal))\n",
    "        if terminal: break"
   ]
  },
  {
   "cell_type": "code",
   "execution_count": 24,
   "metadata": {},
   "outputs": [
    {
     "data": {
      "text/plain": [
       "(30959, 12, 12, 3)"
      ]
     },
     "execution_count": 24,
     "metadata": {},
     "output_type": "execute_result"
    }
   ],
   "source": [
    "S = np.asarray(states)\n",
    "S.shape"
   ]
  },
  {
   "cell_type": "code",
   "execution_count": 25,
   "metadata": {},
   "outputs": [
    {
     "data": {
      "text/plain": [
       "(30959, 1)"
      ]
     },
     "execution_count": 25,
     "metadata": {},
     "output_type": "execute_result"
    }
   ],
   "source": [
    "A = np.asarray(actions).reshape(-1,1)\n",
    "A.shape"
   ]
  },
  {
   "cell_type": "code",
   "execution_count": 26,
   "metadata": {},
   "outputs": [
    {
     "data": {
      "text/plain": [
       "(30959, 1)"
      ]
     },
     "execution_count": 26,
     "metadata": {},
     "output_type": "execute_result"
    }
   ],
   "source": [
    "R = np.asarray(rewards).reshape(-1,1)\n",
    "R.shape"
   ]
  },
  {
   "cell_type": "code",
   "execution_count": 27,
   "metadata": {},
   "outputs": [
    {
     "data": {
      "text/plain": [
       "(30959, 12, 12, 3)"
      ]
     },
     "execution_count": 27,
     "metadata": {},
     "output_type": "execute_result"
    }
   ],
   "source": [
    "S_= np.asarray(sprimes)\n",
    "S_.shape"
   ]
  },
  {
   "cell_type": "code",
   "execution_count": 28,
   "metadata": {},
   "outputs": [
    {
     "data": {
      "text/plain": [
       "(30959, 1)"
      ]
     },
     "execution_count": 28,
     "metadata": {},
     "output_type": "execute_result"
    }
   ],
   "source": [
    "T = np.asarray(terminals).reshape(-1,1)\n",
    "T.shape"
   ]
  },
  {
   "cell_type": "code",
   "execution_count": 29,
   "metadata": {},
   "outputs": [],
   "source": [
    "from rl.agents import Agent\n",
    "from rl.memory.short_term import ShortTerm\n",
    "from rl.policy.categorical import Categorical\n",
    "from rl.util import compute_returns, estimate_advantage"
   ]
  },
  {
   "cell_type": "markdown",
   "metadata": {},
   "source": [
    "### Proximal Policy Optimization"
   ]
  },
  {
   "cell_type": "code",
   "execution_count": 30,
   "metadata": {},
   "outputs": [],
   "source": [
    "class PPO(Agent):\n",
    "    def __init__(self, model, optim, lossfn, memory, policy, device=th.device('cpu'), *args, **kwargs):\n",
    "        super().__init__()\n",
    "        self.device = device\n",
    "        self.model = model\n",
    "        self.optim = optim\n",
    "        self.lossfn = lossfn\n",
    "        self.memory = memory\n",
    "        self.policy = policy\n",
    "\n",
    "    def memorize(self, reward, terminal):\n",
    "        self.memory.retain(value=self.state_value.squeeze(),\n",
    "                           logprob=self.logprob,\n",
    "                           reward=reward,\n",
    "                           terminal=terminal)\n",
    "\n",
    "    def __call__(self, state, objects):\n",
    "        self.state_value, logits = self.model(state, objects)\n",
    "        self.action, self.logprob, self.entropy = self.policy(logits)\n",
    "        return self.state_value, self.action\n",
    "\n",
    "    def update(self, sprime, oprime, clip_param=1e-2, *args, **kwargs):\n",
    "        values, logprobs  = th.tensor(self.memory.values), th.tensor(self.memory.logprobs).float()\n",
    "        rewards,terminals = self.memory.rewards, self.memory.terminals\n",
    "\n",
    "        state_value,_ = self.model(sprime, oprime)\n",
    "        \n",
    "        values = values.view(-1,1)\n",
    "        state_value = state_value.view(-1,1)\n",
    "      \n",
    "        returns = estimate_advantage(state_value, values, rewards, terminals)\n",
    "        returns = th.cat(returns).detach()\n",
    "        advantage = returns - values\n",
    "        \n",
    "        ratio = (self.logprob - logprobs).exp()\n",
    "        surr1 = ratio * advantage\n",
    "        surr2 = th.clamp(ratio, 1.0 - clip_param, 1.0 + clip_param) * advantage\n",
    "\n",
    "        ploss = -th.min(surr1, surr2).mean()\n",
    "        vloss = (returns - values).pow(2).mean()\n",
    "\n",
    "        loss = vloss + ploss\n",
    "\n",
    "        self.optim.zero_grad()\n",
    "        loss.backward()\n",
    "        self.optim.step()\n",
    "\n",
    "        self.memory.wipe()\n",
    "        return loss.item()"
   ]
  },
  {
   "cell_type": "code",
   "execution_count": 31,
   "metadata": {},
   "outputs": [],
   "source": [
    "model  = RRLModule()\n",
    "optim  = th.optim.Adam(model.parameters(), amsgrad=True, lr=1e-3)\n",
    "lossfn = th.nn.MSELoss()\n",
    "memory = ShortTerm()\n",
    "policy = Categorical()\n",
    "\n",
    "agent = PPO(model, optim, lossfn, memory, policy)"
   ]
  },
  {
   "cell_type": "code",
   "execution_count": 32,
   "metadata": {
    "scrolled": false
   },
   "outputs": [
    {
     "data": {
      "application/vnd.jupyter.widget-view+json": {
       "model_id": "3b4207e9926d47a2879e4f7db72c851a",
       "version_major": 2,
       "version_minor": 0
      },
      "text/plain": [
       "HBox(children=(IntProgress(value=0, max=256), HTML(value='')))"
      ]
     },
     "metadata": {},
     "output_type": "display_data"
    },
    {
     "name": "stdout",
     "output_type": "stream",
     "text": [
      "\n"
     ]
    }
   ],
   "source": [
    "preprocess = lambda x:th.from_numpy(x.swapaxes(0,1).swapaxes(0,-1)).float().unsqueeze(0)\n",
    "losses,returns = [],[]\n",
    "episodes = 2**8\n",
    "for episode in tqdm.tqdm_notebook(range(episodes)):\n",
    "    state = env.reset()\n",
    "    cummulative = 0\n",
    "    for _ in range(env.max_steps):\n",
    "        input = preprocess(state)\n",
    "        \n",
    "        objects= env.extract_objects(agent.model.feature_maps(input))\n",
    "        state_value, action = agent(input, objects)\n",
    "        sprime,reward,terminal,_ = env.step(action)\n",
    "        oprime = env.extract_objects(agent.model.feature_maps(preprocess(sprime)))\n",
    "        \n",
    "        agent.memory.retain(reward, terminal)\n",
    "        cummulative += reward\n",
    "        if terminal: break\n",
    "            \n",
    "    returns.append(cummulative)\n",
    "    loss = agent.update(preprocess(sprime), oprime)\n",
    "    losses.append(loss)"
   ]
  },
  {
   "cell_type": "code",
   "execution_count": 33,
   "metadata": {},
   "outputs": [
    {
     "data": {
      "image/png": "[encoded data removed]",
      "text/plain": [
       "<Figure size 1224x720 with 1 Axes>"
      ]
     },
     "metadata": {
      "needs_background": "light"
     },
     "output_type": "display_data"
    }
   ],
   "source": [
    "mp.figure(figsize=(17,10))\n",
    "mp.title('PPO BoxWorld Agent Training Loss, {} Episodes'.format(episode), size=14)\n",
    "mp.xlabel('Episodes', size=14),mp.ylabel('Mean Squared Error', size=14)\n",
    "mp.plot(losses, lw=3, color='darkcyan', alpha=7e-1)\n",
    "mp.show()"
   ]
  }
 ],
 "metadata": {
  "kernelspec": {
   "display_name": "Python 3",
   "language": "python",
   "name": "python3"
  },
  "language_info": {
   "codemirror_mode": {
    "name": "ipython",
    "version": 3
   },
   "file_extension": ".py",
   "mimetype": "text/x-python",
   "name": "python",
   "nbconvert_exporter": "python",
   "pygments_lexer": "ipython3",
   "version": "3.7.4"
  }
 },
 "nbformat": 4,
 "nbformat_minor": 2
}
