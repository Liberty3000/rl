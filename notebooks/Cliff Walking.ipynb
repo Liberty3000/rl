{
 "cells": [
  {
   "cell_type": "code",
   "execution_count": 1,
   "metadata": {},
   "outputs": [],
   "source": [
    "import collections, gym, random, tqdm\n",
    "import matplotlib.pyplot as mp\n",
    "import numpy as np, torch as th\n",
    "from torch.autograd import Variable\n",
    "from scipy.signal import lfilter"
   ]
  },
  {
   "cell_type": "markdown",
   "metadata": {},
   "source": [
    "![env](https://miro.medium.com/max/2244/1*cAezGWdRG9_3DXrKg3uftw.jpeg)"
   ]
  },
  {
   "cell_type": "code",
   "execution_count": 2,
   "metadata": {},
   "outputs": [],
   "source": [
    "directional_actions ={0:[-1,0], # north\n",
    "                      1:[0,1],  # east\n",
    "                      2:[1,0],  # south\n",
    "                      3:[0,-1]} # west\n",
    "\n",
    "directional_labels = ['north','east','south','west']"
   ]
  },
  {
   "cell_type": "markdown",
   "metadata": {},
   "source": [
    "### Environment"
   ]
  },
  {
   "cell_type": "code",
   "execution_count": 3,
   "metadata": {},
   "outputs": [],
   "source": [
    "class CliffWalking(gym.Env):\n",
    "    def __init__(self, tabular=False):\n",
    "        super().__init__()\n",
    "        self.fig,self.ax = mp.subplots()\n",
    "        self.tabular = tabular\n",
    "        self.state_space = 4*12\n",
    "        self.action_space= (len(list(directional_actions)),)\n",
    "\n",
    "        self.goal = np.array([3,11])\n",
    "        \n",
    "        self.cliff = [[3,i] for i in range(1,11)]\n",
    "        self.walker = self.init = (3,0)\n",
    "\n",
    "        self.timer,self.limit = 0,(4*12)*2\n",
    "\n",
    "    def off_policy_action(self):\n",
    "        return np.random.randint(0,3)\n",
    "\n",
    "    def terminal_condition(self):\n",
    "        if list(self.walker) in self.cliff:\n",
    "            return -100,True,'failure'\n",
    "        if tuple(self.walker) == tuple(self.goal):\n",
    "            return 0,True,'success'\n",
    "        return -1,False,'neutral'\n",
    "\n",
    "    def fill(self):\n",
    "        grid = np.zeros(shape=(4,12))\n",
    "        grid[self.goal[0],self.goal[1]] = 2\n",
    "        for x,y in self.cliff: grid[x,y] = -1\n",
    "        grid[self.walker[0],self.walker[1]] = 1\n",
    "        return grid\n",
    "\n",
    "    def reset(self):\n",
    "        self.timer = 0\n",
    "        self.walker = self.init = (3, 0)\n",
    "        if self.tabular: state = int(np.where(self.fill().flatten() == 1)[0])\n",
    "        else: state = self.fill()\n",
    "        return state\n",
    "\n",
    "    def step(self, action):\n",
    "        self.timer += 1\n",
    "        metadata = {}\n",
    "\n",
    "        action = directional_actions[action]\n",
    "\n",
    "        prev = tuple(self.walker)\n",
    "        self.walker = np.asarray(self.walker) + np.asarray(action)\n",
    "        self.walker[0] = np.clip(self.walker[0],0,3)\n",
    "        self.walker[1] = np.clip(self.walker[1],0,11)\n",
    "        curr = tuple(self.walker)\n",
    "\n",
    "        if self.tabular:\n",
    "            state = int(np.where(self.fill().flatten() == 1)[0])\n",
    "        else:\n",
    "            state = self.fill()\n",
    "\n",
    "        reward,terminal,status = self.terminal_condition()\n",
    "        metadata['status'] = status\n",
    "        return state, reward, terminal, metadata"
   ]
  },
  {
   "cell_type": "markdown",
   "metadata": {},
   "source": [
    "### Experience Replay"
   ]
  },
  {
   "cell_type": "code",
   "execution_count": 4,
   "metadata": {},
   "outputs": [],
   "source": [
    "class ExperienceReplay(object):\n",
    "    def __init__(self, capacity=2**20):\n",
    "        self.capacity = capacity\n",
    "        self.buffer = collections.deque(maxlen=self.capacity)\n",
    "        self.ordering = ['states','actions','rewards','sprimes','terminals']\n",
    "    def retain(self, state, action, reward, sprime, terminal):\n",
    "        s = np.asarray(state).astype(np.float32)\n",
    "        a = np.asarray(action).astype(np.float32)\n",
    "        r = np.asarray(reward).astype(np.float32)\n",
    "        s_= np.asarray(sprime).astype(np.float32)\n",
    "        t = np.asarray(terminal).astype(np.float32)\n",
    "        self.buffer.append((s,a,r,s_,t))\n",
    "    def wipe(self):\n",
    "        self.buffer = collections.deque(maxlen=self.capacity)\n",
    "    def minibatch(self, bsize=1):\n",
    "        S,A,R,S_,T = self.sample(bsize)\n",
    "        S = Variable(th.from_numpy(S).float())\n",
    "        A = Variable(th.from_numpy(A).float())\n",
    "        R = Variable(th.from_numpy(R).float())\n",
    "        S_= Variable(th.from_numpy(S_).float())\n",
    "        T = Variable(th.from_numpy(T).float())\n",
    "        return S,A,R,S_,T\n",
    "    def recent(self, bsize=1):\n",
    "        s,a,r,s_,t = np.asarray(self.buffer)[-bsize,:]\n",
    "        S = Variable(th.from_numpy(np.asarray(s)).float())\n",
    "        A = Variable(th.from_numpy(np.asarray(a)).float()).view(1)\n",
    "        R = Variable(th.from_numpy(np.asarray(r)).float()).view(1)\n",
    "        S_= Variable(th.from_numpy(np.asarray(s_)).float())\n",
    "        T = Variable(th.from_numpy(np.asarray(t)).float())\n",
    "        return S,A,R,S_,T\n",
    "    def sequence(self, axis='rewards'):\n",
    "        return np.asarray(self.buffer)[:,self.ordering.index(axis)]\n",
    "    def sample(self, bsize=1):\n",
    "        s,a,r,s_,t = zip(*random.sample(self.buffer, bsize))\n",
    "        return np.array(s), np.array(a), np.array(r), np.array(s_), np.array(t)\n",
    "    def __len__(self):\n",
    "        return len(self.buffer)"
   ]
  },
  {
   "cell_type": "markdown",
   "metadata": {},
   "source": [
    "### ε-Greedy Policy"
   ]
  },
  {
   "cell_type": "code",
   "execution_count": 5,
   "metadata": {},
   "outputs": [],
   "source": [
    "class EpsilonGreed(object):\n",
    "    def __init__(self, epsilon_min=1e-2, epsilon_init=1.0, epsilon_decay=2**12):\n",
    "        super().__init__()\n",
    "        self.epsilon = self.epsilon_init = epsilon_init\n",
    "        self.epsilon_min = epsilon_min\n",
    "        self.epsilon_decay = epsilon_decay\n",
    "        self.calls = 0\n",
    "\n",
    "    def decay_epsilon(self, itr):\n",
    "        decay = np.exp(-1 * itr / self.epsilon_decay)\n",
    "        self.epsilon = self.epsilon_min + (self.epsilon_init - self.epsilon_min) * decay\n",
    "        return self.epsilon\n",
    "\n",
    "    def __call__(self, logits):\n",
    "        self.calls += 1\n",
    "        if np.random.random() > self.epsilon:\n",
    "            action = logits.max(dim=1)[1].item()\n",
    "        else:\n",
    "            action = np.random.randint(0,logits.size(dim=1))\n",
    "        self.decay_epsilon(self.calls)\n",
    "        return action"
   ]
  },
  {
   "cell_type": "code",
   "execution_count": 6,
   "metadata": {},
   "outputs": [],
   "source": [
    "def simulate(sim, agent, episodes=1, render=False):\n",
    "    success,failure,neutral = 0,0,0\n",
    "\n",
    "    completed,cummulative,stats = [],[],[]\n",
    "    bar = tqdm.tqdm_notebook(range(1,1+episodes))\n",
    "   \n",
    "    for episode in bar:\n",
    "        state,returns,terminal = sim.reset(),[],False\n",
    "        while not terminal and sim.timer < sim.limit:\n",
    "            action = agent.interact(state)\n",
    "\n",
    "            sprime, reward, terminal, metadata = sim.step(action)\n",
    "            agent.memory.retain(state,action,reward,sprime,terminal)\n",
    "            state = sprime\n",
    "            returns.append(reward)\n",
    "\n",
    "            loss = agent.update()\n",
    "        \n",
    "        cummulative.append(np.sum(returns))\n",
    "        agent.memory.wipe()\n",
    "        \n",
    "        banner = '{}  Succ. Rate: {:.4f}, ε: {:.4f}'\n",
    "        if metadata['status'] == 'success': icon,success = '👍',success+1\n",
    "        if metadata['status'] == 'failure': icon,failure = '👎',failure+1\n",
    "        if metadata['status'] == 'neutral': icon,neutral = '🤞',neutral+1\n",
    "        succ_rate = success/(success+failure+neutral)\n",
    "        banner = banner.format(icon, succ_rate, agent.policy.epsilon)\n",
    "        bar.set_description(banner)\n",
    "\n",
    "    success_rate = success / (success+failure)\n",
    "    mp.title('Tabular Q-Learning, Success Rate: {}'.format(success_rate))\n",
    "    mp.plot(lfilter([1.0 /25] * 25,1,cummulative),label='qlearn', color='darkcyan', lw=3)\n",
    "    return cummulative,success_rate"
   ]
  },
  {
   "cell_type": "markdown",
   "metadata": {},
   "source": [
    "### Tabular TD Agent"
   ]
  },
  {
   "cell_type": "code",
   "execution_count": 7,
   "metadata": {},
   "outputs": [],
   "source": [
    "class TabularTD(object):\n",
    "    def __init__(self, on_policy=False, states=48, actions=4):\n",
    "        super().__init__()\n",
    "        self.on_policy = on_policy\n",
    "        self.states, self.actions = states, actions\n",
    "        self.model = np.zeros((states,actions))\n",
    "        self.policy= EpsilonGreed()\n",
    "        self.memory = ExperienceReplay()\n",
    "\n",
    "    def update(self, alpha=1, gamma=0.99):\n",
    "        S,A,R,S_,T = self.memory.minibatch()\n",
    "\n",
    "        S,A,S_= int(S),int(A),int(S_)\n",
    "                \n",
    "        Qvalue = th.from_numpy(np.asarray(self.model[S,A])).float().unsqueeze(0)\n",
    "\n",
    "        if self.on_policy:\n",
    "            logits = th.from_numpy(np.asarray(self.model[S_,:])).float().unsqueeze(0)\n",
    "            A_ = self.policy(logits)\n",
    "            Qprime = self.model[S_,A_]\n",
    "            self.memory.wipe()\n",
    "        else:\n",
    "            Qprime = np.max(self.model[S_,:])\n",
    "\n",
    "        self.model[S,A] = (1 - alpha) * Qvalue + alpha * (R + gamma * Qprime)\n",
    "        return Qprime - Qvalue\n",
    "    \n",
    "    def interact(self, state, logits=False):\n",
    "        Q = self.model[state,:]\n",
    "        action = self.policy(th.from_numpy(Q).float().unsqueeze(0))\n",
    "        if logits: return action, Q\n",
    "        else: return action"
   ]
  },
  {
   "cell_type": "code",
   "execution_count": 8,
   "metadata": {},
   "outputs": [
    {
     "data": {
      "application/vnd.jupyter.widget-view+json": {
       "model_id": "5a967eea67e1433ea263500019eea111",
       "version_major": 2,
       "version_minor": 0
      },
      "text/plain": [
       "HBox(children=(IntProgress(value=0, max=4096), HTML(value='')))"
      ]
     },
     "metadata": {},
     "output_type": "display_data"
    },
    {
     "name": "stdout",
     "output_type": "stream",
     "text": [
      "\n"
     ]
    },
    {
     "data": {
      "image/png": "[encoded data removed]",
      "text/plain": [
       "<Figure size 432x288 with 1 Axes>"
      ]
     },
     "metadata": {
      "needs_background": "light"
     },
     "output_type": "display_data"
    }
   ],
   "source": [
    "episodes = 2**12\n",
    "\n",
    "agent = TabularTD(on_policy=False)\n",
    "sim = CliffWalking(tabular=True)\n",
    "\n",
    "returns,succ_rate = simulate(sim, agent, episodes=episodes)"
   ]
  },
  {
   "cell_type": "code",
   "execution_count": 9,
   "metadata": {},
   "outputs": [
    {
     "name": "stdout",
     "output_type": "stream",
     "text": [
      "(4, 12, 4)\n"
     ]
    }
   ],
   "source": [
    "heatmap = agent.model.reshape(4,12,4)\n",
    "print(heatmap.shape)"
   ]
  },
  {
   "cell_type": "code",
   "execution_count": 10,
   "metadata": {},
   "outputs": [
    {
     "data": {
      "text/plain": [
       "<matplotlib.image.AxesImage at 0x13219c850>"
      ]
     },
     "execution_count": 10,
     "metadata": {},
     "output_type": "execute_result"
    },
    {
     "data": {
      "image/png": "[encoded data removed]",
      "text/plain": [
       "<Figure size 720x720 with 1 Axes>"
      ]
     },
     "metadata": {
      "needs_background": "light"
     },
     "output_type": "display_data"
    }
   ],
   "source": [
    "fig,ax = mp.subplots(1,1,figsize=(10,10))\n",
    "ax.imshow(np.sum(heatmap,axis=-1))"
   ]
  },
  {
   "cell_type": "code",
   "execution_count": 11,
   "metadata": {},
   "outputs": [
    {
     "data": {
      "text/plain": [
       "array([[ -45.44604874,  -41.8646965 ,  -38.24716949,  -36.4201355 ,\n",
       "         -32.74761295,  -29.03799343,  -25.29090214,  -21.50596142,\n",
       "         -18.63377857,  -12.85069871,   -9.92019987,   -6.97000003],\n",
       "       [ -46.3324337 ,  -42.76003456,  -39.15155125,  -35.5066185 ,\n",
       "         -31.82486868,  -28.10592794,  -24.34942198,  -21.50596142,\n",
       "         -16.72219205,  -13.82099771,   -9.92019987,   -5.98000002],\n",
       "       [ -46.32348061, -132.28481674, -129.58062363, -126.84911585,\n",
       "        -124.09001637, -121.30304766, -118.48792648, -115.64436984,\n",
       "        -112.77209044, -109.87079787, -106.94019985,   -3.99000001],\n",
       "       [-135.85730648,    0.        ,    0.        ,    0.        ,\n",
       "           0.        ,    0.        ,    0.        ,    0.        ,\n",
       "           0.        ,    0.        ,    0.        ,    0.        ]])"
      ]
     },
     "execution_count": 11,
     "metadata": {},
     "output_type": "execute_result"
    }
   ],
   "source": [
    "np.sum(heatmap, axis=-1)"
   ]
  }
 ],
 "metadata": {
  "kernelspec": {
   "display_name": "Python 3",
   "language": "python",
   "name": "python3"
  },
  "language_info": {
   "codemirror_mode": {
    "name": "ipython",
    "version": 3
   },
   "file_extension": ".py",
   "mimetype": "text/x-python",
   "name": "python",
   "nbconvert_exporter": "python",
   "pygments_lexer": "ipython3",
   "version": "3.7.4"
  }
 },
 "nbformat": 4,
 "nbformat_minor": 2
}
